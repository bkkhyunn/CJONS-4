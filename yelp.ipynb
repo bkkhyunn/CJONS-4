{
 "cells": [
  {
   "cell_type": "code",
   "execution_count": 1,
   "metadata": {},
   "outputs": [],
   "source": [
    "import os, sys \n",
    "import pandas as pd \n",
    "import json\n",
    "from tqdm.auto import tqdm \n",
    "\n",
    "from settings import * \n",
    "from utils import * "
   ]
  },
  {
   "cell_type": "code",
   "execution_count": 2,
   "metadata": {},
   "outputs": [],
   "source": [
    "photo_paths = os.path.join(YELP_DIR, 'yelp_photos-2\\\\photos.json')\n",
    "item_paths = os.path.join(YELP_DIR, 'yelp_dataset-2\\\\yelp_academic_dataset_business.json')\n",
    "user_paths = os.path.join(YELP_DIR, 'yelp_dataset-2\\\\yelp_academic_dataset_user.json')\n",
    "review_paths = os.path.join(YELP_DIR, 'yelp_dataset-2\\\\yelp_academic_dataset_review.json')"
   ]
  },
  {
   "cell_type": "code",
   "execution_count": 3,
   "metadata": {},
   "outputs": [],
   "source": [
    "def json2df(path):\n",
    "    json_data = []\n",
    "    with open(path, 'r') as f:\n",
    "        for line in tqdm(f, desc='transformating json to dataframe...'):\n",
    "            json_data.append(json.loads(line))\n",
    "    return pd.json_normalize(json_data)"
   ]
  },
  {
   "cell_type": "code",
   "execution_count": 4,
   "metadata": {},
   "outputs": [
    {
     "data": {
      "application/vnd.jupyter.widget-view+json": {
       "model_id": "5e9b68da60a8465892eacce3378a8a2c",
       "version_major": 2,
       "version_minor": 0
      },
      "text/plain": [
       "transformating json to dataframe...: 0it [00:00, ?it/s]"
      ]
     },
     "metadata": {},
     "output_type": "display_data"
    },
    {
     "data": {
      "application/vnd.jupyter.widget-view+json": {
       "model_id": "62c68c354d7f4fb3ab814744c8b668d8",
       "version_major": 2,
       "version_minor": 0
      },
      "text/plain": [
       "transformating json to dataframe...: 0it [00:00, ?it/s]"
      ]
     },
     "metadata": {},
     "output_type": "display_data"
    },
    {
     "data": {
      "application/vnd.jupyter.widget-view+json": {
       "model_id": "f655a7f8fa06487d98ad00b6b418ee53",
       "version_major": 2,
       "version_minor": 0
      },
      "text/plain": [
       "transformating json to dataframe...: 0it [00:00, ?it/s]"
      ]
     },
     "metadata": {},
     "output_type": "display_data"
    }
   ],
   "source": [
    "photo_info = json2df(photo_paths)\n",
    "item_info = json2df(item_paths)\n",
    "user_info = json2df(user_paths)\n",
    "# review_info = json2df(review_paths)"
   ]
  },
  {
   "cell_type": "code",
   "execution_count": 16,
   "metadata": {},
   "outputs": [],
   "source": [
    "outs = pd.merge(item_info, photo_info, how='inner').loc[:, ['business_id', 'stars', 'photo_id', 'label']]\n",
    "outs = outs[outs.loc[:, 'label'] == 'food']\n",
    "outs = outs.drop_duplicates('business_id')"
   ]
  },
  {
   "cell_type": "code",
   "execution_count": 17,
   "metadata": {},
   "outputs": [
    {
     "data": {
      "text/html": [
       "<div>\n",
       "<style scoped>\n",
       "    .dataframe tbody tr th:only-of-type {\n",
       "        vertical-align: middle;\n",
       "    }\n",
       "\n",
       "    .dataframe tbody tr th {\n",
       "        vertical-align: top;\n",
       "    }\n",
       "\n",
       "    .dataframe thead th {\n",
       "        text-align: right;\n",
       "    }\n",
       "</style>\n",
       "<table border=\"1\" class=\"dataframe\">\n",
       "  <thead>\n",
       "    <tr style=\"text-align: right;\">\n",
       "      <th></th>\n",
       "      <th>business_id</th>\n",
       "      <th>stars</th>\n",
       "      <th>photo_id</th>\n",
       "      <th>label</th>\n",
       "    </tr>\n",
       "  </thead>\n",
       "  <tbody>\n",
       "    <tr>\n",
       "      <th>0</th>\n",
       "      <td>MTSW4McQd7CbVtyjqoe9mw</td>\n",
       "      <td>4.0</td>\n",
       "      <td>N3tTxsgpFH91wzo4gZm19A</td>\n",
       "      <td>food</td>\n",
       "    </tr>\n",
       "    <tr>\n",
       "      <th>7</th>\n",
       "      <td>CF33F8-E6oudUQ46HnavjQ</td>\n",
       "      <td>2.0</td>\n",
       "      <td>ZXMF6AHcxI9m03nFrJbpZQ</td>\n",
       "      <td>food</td>\n",
       "    </tr>\n",
       "    <tr>\n",
       "      <th>13</th>\n",
       "      <td>bBDDEgkFA1Otx9Lfe7BZUQ</td>\n",
       "      <td>1.5</td>\n",
       "      <td>680ptwxpj9uCtkAqFO--wA</td>\n",
       "      <td>food</td>\n",
       "    </tr>\n",
       "    <tr>\n",
       "      <th>19</th>\n",
       "      <td>il_Ro8jwPlHresjw9EGmBg</td>\n",
       "      <td>2.5</td>\n",
       "      <td>z93byFmJdICS1tSSY3NATw</td>\n",
       "      <td>food</td>\n",
       "    </tr>\n",
       "    <tr>\n",
       "      <th>30</th>\n",
       "      <td>0bPLkL0QhhPO5kt1_EXmNQ</td>\n",
       "      <td>4.5</td>\n",
       "      <td>MKA75vYrSLhVz3Yvk3RQWw</td>\n",
       "      <td>food</td>\n",
       "    </tr>\n",
       "    <tr>\n",
       "      <th>...</th>\n",
       "      <td>...</td>\n",
       "      <td>...</td>\n",
       "      <td>...</td>\n",
       "      <td>...</td>\n",
       "    </tr>\n",
       "    <tr>\n",
       "      <th>200051</th>\n",
       "      <td>sf_oQ62L8UEnOOLf00nNGA</td>\n",
       "      <td>3.0</td>\n",
       "      <td>elG0-gl62YG6kJllNaKJYQ</td>\n",
       "      <td>food</td>\n",
       "    </tr>\n",
       "    <tr>\n",
       "      <th>200055</th>\n",
       "      <td>WXNag-tmudrFHFlfNLogWg</td>\n",
       "      <td>4.0</td>\n",
       "      <td>ctmY6HSMxrbRbSp7INUnDQ</td>\n",
       "      <td>food</td>\n",
       "    </tr>\n",
       "    <tr>\n",
       "      <th>200058</th>\n",
       "      <td>2MAQeAqmD8enCT2ZYqUgIQ</td>\n",
       "      <td>4.0</td>\n",
       "      <td>zBJS5eNRiov8XgMCs-hsoA</td>\n",
       "      <td>food</td>\n",
       "    </tr>\n",
       "    <tr>\n",
       "      <th>200068</th>\n",
       "      <td>w_4xUt-1AyY2ZwKtnjW0Xg</td>\n",
       "      <td>4.5</td>\n",
       "      <td>u8o67Ay3q_KRD7t3ylAowQ</td>\n",
       "      <td>food</td>\n",
       "    </tr>\n",
       "    <tr>\n",
       "      <th>200094</th>\n",
       "      <td>WnT9NIzQgLlILjPT0kEcsQ</td>\n",
       "      <td>4.5</td>\n",
       "      <td>igkn2yYqmoFf7sM-to-byA</td>\n",
       "      <td>food</td>\n",
       "    </tr>\n",
       "  </tbody>\n",
       "</table>\n",
       "<p>25959 rows × 4 columns</p>\n",
       "</div>"
      ],
      "text/plain": [
       "                   business_id  stars                photo_id label\n",
       "0       MTSW4McQd7CbVtyjqoe9mw    4.0  N3tTxsgpFH91wzo4gZm19A  food\n",
       "7       CF33F8-E6oudUQ46HnavjQ    2.0  ZXMF6AHcxI9m03nFrJbpZQ  food\n",
       "13      bBDDEgkFA1Otx9Lfe7BZUQ    1.5  680ptwxpj9uCtkAqFO--wA  food\n",
       "19      il_Ro8jwPlHresjw9EGmBg    2.5  z93byFmJdICS1tSSY3NATw  food\n",
       "30      0bPLkL0QhhPO5kt1_EXmNQ    4.5  MKA75vYrSLhVz3Yvk3RQWw  food\n",
       "...                        ...    ...                     ...   ...\n",
       "200051  sf_oQ62L8UEnOOLf00nNGA    3.0  elG0-gl62YG6kJllNaKJYQ  food\n",
       "200055  WXNag-tmudrFHFlfNLogWg    4.0  ctmY6HSMxrbRbSp7INUnDQ  food\n",
       "200058  2MAQeAqmD8enCT2ZYqUgIQ    4.0  zBJS5eNRiov8XgMCs-hsoA  food\n",
       "200068  w_4xUt-1AyY2ZwKtnjW0Xg    4.5  u8o67Ay3q_KRD7t3ylAowQ  food\n",
       "200094  WnT9NIzQgLlILjPT0kEcsQ    4.5  igkn2yYqmoFf7sM-to-byA  food\n",
       "\n",
       "[25959 rows x 4 columns]"
      ]
     },
     "execution_count": 17,
     "metadata": {},
     "output_type": "execute_result"
    }
   ],
   "source": [
    "# num_items = 25,959\n",
    "outs "
   ]
  },
  {
   "cell_type": "code",
   "execution_count": null,
   "metadata": {},
   "outputs": [],
   "source": []
  }
 ],
 "metadata": {
  "kernelspec": {
   "display_name": "base",
   "language": "python",
   "name": "python3"
  },
  "language_info": {
   "codemirror_mode": {
    "name": "ipython",
    "version": 3
   },
   "file_extension": ".py",
   "mimetype": "text/x-python",
   "name": "python",
   "nbconvert_exporter": "python",
   "pygments_lexer": "ipython3",
   "version": "3.9.12"
  },
  "orig_nbformat": 4
 },
 "nbformat": 4,
 "nbformat_minor": 2
}
