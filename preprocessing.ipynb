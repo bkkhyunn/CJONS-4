{
 "cells": [
  {
   "cell_type": "code",
   "execution_count": 26,
   "metadata": {},
   "outputs": [],
   "source": [
    "import os, sys, pickle \n",
    "import pandas as pd \n",
    "import json\n",
    "from collections import defaultdict\n",
    "\n",
    "from sklearn.model_selection import train_test_split\n",
    "\n",
    "from tqdm.auto import tqdm \n",
    "\n",
    "from torch.utils.data import DataLoader, Dataset\n",
    "from PIL import Image\n",
    "import glob, os\n",
    "import numpy as np \n",
    "\n",
    "from torchvision import transforms \n",
    "\n",
    "from settings import * \n",
    "from utils import * \n",
    "\n",
    "# !conda install -c conda-forge ipywidgets -y"
   ]
  },
  {
   "cell_type": "code",
   "execution_count": 3,
   "metadata": {},
   "outputs": [
    {
     "data": {
      "application/json": {
       "ascii": false,
       "bar_format": null,
       "colour": null,
       "elapsed": 0.024860858917236328,
       "initial": 0,
       "n": 0,
       "ncols": null,
       "nrows": null,
       "postfix": null,
       "prefix": "transformating json to dataframe...",
       "rate": null,
       "total": null,
       "unit": "it",
       "unit_divisor": 1000,
       "unit_scale": false
      },
      "application/vnd.jupyter.widget-view+json": {
       "model_id": "f29c9406d69c470ea9b17f39046e3b66",
       "version_major": 2,
       "version_minor": 0
      },
      "text/plain": [
       "transformating json to dataframe...: 0it [00:00, ?it/s]"
      ]
     },
     "metadata": {},
     "output_type": "display_data"
    },
    {
     "data": {
      "application/json": {
       "ascii": false,
       "bar_format": null,
       "colour": null,
       "elapsed": 0.02164173126220703,
       "initial": 0,
       "n": 0,
       "ncols": null,
       "nrows": null,
       "postfix": null,
       "prefix": "transformating json to dataframe...",
       "rate": null,
       "total": null,
       "unit": "it",
       "unit_divisor": 1000,
       "unit_scale": false
      },
      "application/vnd.jupyter.widget-view+json": {
       "model_id": "fc7be78e79674ea39d0383adea4300a2",
       "version_major": 2,
       "version_minor": 0
      },
      "text/plain": [
       "transformating json to dataframe...: 0it [00:00, ?it/s]"
      ]
     },
     "metadata": {},
     "output_type": "display_data"
    },
    {
     "data": {
      "application/json": {
       "ascii": false,
       "bar_format": null,
       "colour": null,
       "elapsed": 0.03381466865539551,
       "initial": 0,
       "n": 0,
       "ncols": null,
       "nrows": null,
       "postfix": null,
       "prefix": "transformating json to dataframe...",
       "rate": null,
       "total": null,
       "unit": "it",
       "unit_divisor": 1000,
       "unit_scale": false
      },
      "application/vnd.jupyter.widget-view+json": {
       "model_id": "dc30ed57fa2f495487213b27185ebc64",
       "version_major": 2,
       "version_minor": 0
      },
      "text/plain": [
       "transformating json to dataframe...: 0it [00:00, ?it/s]"
      ]
     },
     "metadata": {},
     "output_type": "display_data"
    },
    {
     "data": {
      "application/json": {
       "ascii": false,
       "bar_format": null,
       "colour": null,
       "elapsed": 0.08916497230529785,
       "initial": 0,
       "n": 0,
       "ncols": null,
       "nrows": null,
       "postfix": null,
       "prefix": "transformating json to dataframe...",
       "rate": null,
       "total": null,
       "unit": "it",
       "unit_divisor": 1000,
       "unit_scale": false
      },
      "application/vnd.jupyter.widget-view+json": {
       "model_id": "aa2ad87f194f42189c0833f4c13c8580",
       "version_major": 2,
       "version_minor": 0
      },
      "text/plain": [
       "transformating json to dataframe...: 0it [00:00, ?it/s]"
      ]
     },
     "metadata": {},
     "output_type": "display_data"
    }
   ],
   "source": [
    "photo_info = json2df(PATH_DICT['photo'])\n",
    "item_info = json2df(PATH_DICT['item_paths'])\n",
    "\n",
    "user_info = json2df(PATH_DICT['user_paths'])\n",
    "\n",
    "review_info = json2df(PATH_DICT['review_paths'])"
   ]
  },
  {
   "cell_type": "markdown",
   "metadata": {},
   "source": [
    "### 전처리 기준\n",
    "\n",
    "- 사용자: 리뷰를 최소 10회 이상 작성한(review_count) 사용자를 대상으로 함.\n",
    "    - 리뷰: 최대 길이를 256으로 설정하고 BertTokenizer (BPE)를 사용함.\n",
    "- 레스토랑\n",
    "    - 사진:Food에 해당하는 사진만 사용함. 사진을 불러올 때 사진이 깨진 파일이 있어 제거하는 작업을 수행함.\n"
   ]
  },
  {
   "cell_type": "code",
   "execution_count": 4,
   "metadata": {},
   "outputs": [],
   "source": [
    "item_df = pd.merge(item_info, photo_info, how='inner').loc[:, ['business_id', 'stars', 'photo_id', 'label']]\n",
    "item_df = item_df[item_df.loc[:, 'label'] == 'food'] # food에 해당하는 이미지.\n",
    "item_df = item_df.drop_duplicates('business_id')"
   ]
  },
  {
   "cell_type": "code",
   "execution_count": 5,
   "metadata": {},
   "outputs": [],
   "source": [
    "review_df = review_info[review_info.loc[:, 'user_id'].isin(user_info.user_id)].loc[:, ['user_id', 'business_id', 'text', 'stars']].copy()\n",
    "review_df = pd.merge(review_df, item_df.loc[:, ['business_id', 'photo_id']], how='inner')\n",
    "review_df.photo_id = review_df.photo_id.apply(lambda x: re.sub('[^0-9a-zA-Z]', '', x) + '.jpg')"
   ]
  },
  {
   "cell_type": "code",
   "execution_count": null,
   "metadata": {},
   "outputs": [],
   "source": [
    "img_path = modify_img_path(PATH_DICT['photo'])"
   ]
  },
  {
   "cell_type": "code",
   "execution_count": 10,
   "metadata": {},
   "outputs": [
    {
     "data": {
      "application/json": {
       "ascii": false,
       "bar_format": null,
       "colour": null,
       "elapsed": 0.016640424728393555,
       "initial": 0,
       "n": 0,
       "ncols": null,
       "nrows": null,
       "postfix": null,
       "prefix": "Loding images",
       "rate": null,
       "total": 25959,
       "unit": "it",
       "unit_divisor": 1000,
       "unit_scale": false
      },
      "application/vnd.jupyter.widget-view+json": {
       "model_id": "f4de5fe0bc02483284559302a9d2412e",
       "version_major": 2,
       "version_minor": 0
      },
      "text/plain": [
       "Loding images:   0%|          | 0/25959 [00:00<?, ?it/s]"
      ]
     },
     "metadata": {},
     "output_type": "display_data"
    },
    {
     "name": "stdout",
     "output_type": "stream",
     "text": [
      "The number of drop images is 1.0! Drop image name is Pk878Yndygr4LRUDH7Hg.jpg\n",
      "The number of drop images is 2.0! Drop image name is feUGw0P5byOq4U40C77tyQ.jpg\n",
      "The number of drop images is 3.0! Drop image name is N6hL8FQ84A2DznF2S2Lp7g.jpg\n",
      "The number of drop images is 4.0! Drop image name is YW1WMOkVbdFBrixDnKgoqA.jpg\n",
      "The number of drop images is 5.0! Drop image name is bf3ymV0YgP7B6rEoriaU2w.jpg\n",
      "The number of drop images is 6.0! Drop image name is MduVueqYTBlEkXaxrh1ug.jpg\n",
      "The number of drop images is 7.0! Drop image name is JGpfPj8VEvnq1BXqr3wA.jpg\n",
      "The number of drop images is 8.0! Drop image name is ytJ4lihJrvyzMMRGWwDNw.jpg\n",
      "The number of drop images is 9.0! Drop image name is ydm3g1wUWSxJnMPgHk2JhQ.jpg\n",
      "The number of drop images is 10.0! Drop image name is E7Wpzn1fCnVJ8zKpecPQ.jpg\n",
      "The number of drop images is 11.0! Drop image name is JoQ5xekjQUkj8rukJIzqgg.jpg\n",
      "The number of drop images is 12.0! Drop image name is cNkUV0sInfhPy5PP8SHtQ.jpg\n",
      "The number of drop images is 13.0! Drop image name is DMCTwC3UT2w5QzHOQoqBPw.jpg\n",
      "The number of drop images is 14.0! Drop image name is IB2ZjqjtS1WDadQoPPdgg.jpg\n",
      "The number of drop images is 15.0! Drop image name is 9X4YPM8nYFjf7hY8xUdc6Q.jpg\n",
      "The number of drop images is 16.0! Drop image name is pW1IPuTdLIUB61goirbXaA.jpg\n",
      "The number of drop images is 17.0! Drop image name is 9RDbbAZB0HnL4hndCWB58w.jpg\n",
      "The number of drop images is 18.0! Drop image name is RLtBKD2rlfTaELWejmLBCA.jpg\n",
      "The number of drop images is 19.0! Drop image name is RhC7TNmFvbR9GWrlrl5dsA.jpg\n",
      "The number of drop images is 20.0! Drop image name is nKJ7yiPc0EDJNtNxmCrhg.jpg\n",
      "The number of drop images is 21.0! Drop image name is LXT4hCf1lRyUeM4HDBaSvg.jpg\n",
      "The number of drop images is 22.0! Drop image name is juDNZOOnkgG3QINFrulsAg.jpg\n",
      "The number of drop images is 23.0! Drop image name is hjEfal2a1DWRDu8AUDLNg.jpg\n",
      "The number of drop images is 24.0! Drop image name is rrfwGSwt3eHxxypfu5PGTA.jpg\n",
      "The number of drop images is 25.0! Drop image name is pY32hIagdxrL4Nsi959EQg.jpg\n"
     ]
    }
   ],
   "source": [
    "drop_img = drop_invalid_image(review_df) # 이미지 파일이 깨진 경우 삭제."
   ]
  },
  {
   "cell_type": "code",
   "execution_count": 11,
   "metadata": {},
   "outputs": [],
   "source": [
    "drop_idx = review_df[review_df.photo_id.isin(drop_img)].index \n",
    "review_df = review_df.drop(index=drop_idx).reset_index(drop=True)\n",
    "\n",
    "target_user = review_df.user_id.value_counts()[review_df.user_id.value_counts() >= 10].index  # 10회 이상.\n",
    "\n",
    "review_df = review_df[review_df.user_id.isin(target_user)].reset_index(drop=True)"
   ]
  },
  {
   "cell_type": "code",
   "execution_count": 12,
   "metadata": {},
   "outputs": [],
   "source": [
    "d_train, d_test = train_test_split(review_df, train_size=0.6, random_state=42)\n",
    "d_valid, d_test = train_test_split(d_test, train_size=0.5, random_state=42)"
   ]
  },
  {
   "cell_type": "code",
   "execution_count": 13,
   "metadata": {},
   "outputs": [],
   "source": [
    "d_train = d_train.astype({'user_id':'category', 'business_id':'category'})\n",
    "d_valid = d_valid.astype({'user_id':'category', 'business_id':'category'})\n",
    "d_test = d_test.astype({'user_id':'category', 'business_id':'category'})"
   ]
  },
  {
   "cell_type": "code",
   "execution_count": 14,
   "metadata": {},
   "outputs": [],
   "source": [
    "u_cat = d_train.user_id.cat.categories\n",
    "b_cat = d_train.business_id.cat.categories"
   ]
  },
  {
   "cell_type": "code",
   "execution_count": 15,
   "metadata": {},
   "outputs": [],
   "source": [
    "d_valid.user_id = d_valid.user_id.cat.set_categories(u_cat)\n",
    "d_valid.business_id = d_valid.business_id.cat.set_categories(b_cat)\n",
    "\n",
    "d_test.user_id = d_test.user_id.cat.set_categories(u_cat)\n",
    "d_test.business_id = d_test.business_id.cat.set_categories(b_cat)"
   ]
  },
  {
   "cell_type": "code",
   "execution_count": 16,
   "metadata": {},
   "outputs": [],
   "source": [
    "d_train.user_id = d_train.user_id.cat.codes\n",
    "d_train.business_id = d_train.business_id.cat.codes \n",
    "\n",
    "d_valid.user_id = d_valid.user_id.cat.codes\n",
    "d_valid.business_id = d_valid.business_id.cat.codes\n",
    "\n",
    "d_test.user_id = d_test.user_id.cat.codes\n",
    "d_test.business_id = d_test.business_id.cat.codes "
   ]
  },
  {
   "cell_type": "code",
   "execution_count": 17,
   "metadata": {},
   "outputs": [],
   "source": [
    "d_train = d_train.dropna()\n",
    "d_valid = d_valid.dropna()\n",
    "d_test = d_test.dropna()\n",
    "\n",
    "d_train.reset_index(drop=True, inplace=True)\n",
    "d_valid.reset_index(drop=True, inplace=True)\n",
    "d_test.reset_index(drop=True, inplace=True)"
   ]
  },
  {
   "cell_type": "code",
   "execution_count": 18,
   "metadata": {},
   "outputs": [],
   "source": [
    "d_train = d_train.astype({'user_id': int, 'business_id': int})\n",
    "d_valid = d_valid.astype({'user_id': int, 'business_id': int})\n",
    "d_test = d_test.astype({'user_id': int, 'business_id': int})"
   ]
  },
  {
   "cell_type": "code",
   "execution_count": 19,
   "metadata": {},
   "outputs": [
    {
     "name": "stdout",
     "output_type": "stream",
     "text": [
      "Success pickle file, which name is /workspace/data/data_info.pkl\n",
      "Success pickle file, which name is /workspace/data/train.pkl\n",
      "Success pickle file, which name is /workspace/data/valid.pkl\n",
      "Success pickle file, which name is /workspace/data/test.pkl\n"
     ]
    }
   ],
   "source": [
    "save_pkl(review_df, fname=os.path.join(BASE_DIR,'data/data_info.pkl'))\n",
    "save_pkl(d_train, fname=os.path.join(BASE_DIR,'data/train.pkl'))\n",
    "save_pkl(d_valid, fname=os.path.join(BASE_DIR,'data/valid.pkl'))\n",
    "save_pkl(d_test, fname=os.path.join(BASE_DIR,'data/test.pkl'))"
   ]
  },
  {
   "cell_type": "code",
   "execution_count": null,
   "metadata": {},
   "outputs": [],
   "source": []
  }
 ],
 "metadata": {
  "kernelspec": {
   "display_name": "base",
   "language": "python",
   "name": "python3"
  },
  "language_info": {
   "codemirror_mode": {
    "name": "ipython",
    "version": 3
   },
   "file_extension": ".py",
   "mimetype": "text/x-python",
   "name": "python",
   "nbconvert_exporter": "python",
   "pygments_lexer": "ipython3",
   "version": "3.8.12"
  },
  "orig_nbformat": 4
 },
 "nbformat": 4,
 "nbformat_minor": 2
}
