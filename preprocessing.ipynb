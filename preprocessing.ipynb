{
 "cells": [
  {
   "cell_type": "code",
   "execution_count": 116,
   "metadata": {},
   "outputs": [],
   "source": [
    "import os, sys, pickle \n",
    "import pandas as pd \n",
    "import json\n",
    "\n",
    "from sklearn.model_selection import train_test_split\n",
    "\n",
    "from tqdm.auto import tqdm \n",
    "\n",
    "from settings import * \n",
    "from utils import * \n",
    "\n",
    "# os.chdir('/workspace')"
   ]
  },
  {
   "cell_type": "code",
   "execution_count": 3,
   "metadata": {},
   "outputs": [],
   "source": [
    "photo_paths = os.path.join(DATA_DIR, 'photos.json')\n",
    "img_paths = os.path.join(DATA_DIR, 'photos')\n",
    "item_paths = os.path.join(DATA_DIR, 'yelp_academic_dataset_business.json')\n",
    "user_paths = os.path.join(DATA_DIR, 'yelp_academic_dataset_user.json')\n",
    "review_paths = os.path.join(DATA_DIR, 'yelp_academic_dataset_review.json')"
   ]
  },
  {
   "cell_type": "code",
   "execution_count": 4,
   "metadata": {},
   "outputs": [],
   "source": [
    "# !conda install -c conda-forge ipywidgets -y"
   ]
  },
  {
   "cell_type": "code",
   "execution_count": 5,
   "metadata": {},
   "outputs": [],
   "source": [
    "def json2df(path):\n",
    "    json_data = []\n",
    "    with open(path, 'r') as f:\n",
    "        for line in tqdm(f, desc='transformating json to dataframe...'):\n",
    "            json_data.append(json.loads(line))\n",
    "    return pd.json_normalize(json_data)"
   ]
  },
  {
   "cell_type": "code",
   "execution_count": 6,
   "metadata": {},
   "outputs": [
    {
     "data": {
      "application/json": {
       "ascii": false,
       "bar_format": null,
       "colour": null,
       "elapsed": 0.022237777709960938,
       "initial": 0,
       "n": 0,
       "ncols": null,
       "nrows": null,
       "postfix": null,
       "prefix": "transformating json to dataframe...",
       "rate": null,
       "total": null,
       "unit": "it",
       "unit_divisor": 1000,
       "unit_scale": false
      },
      "application/vnd.jupyter.widget-view+json": {
       "model_id": "91124013654e4c2bbe4385ae3c64ad52",
       "version_major": 2,
       "version_minor": 0
      },
      "text/plain": [
       "transformating json to dataframe...: 0it [00:00, ?it/s]"
      ]
     },
     "metadata": {},
     "output_type": "display_data"
    },
    {
     "data": {
      "application/json": {
       "ascii": false,
       "bar_format": null,
       "colour": null,
       "elapsed": 0.018025875091552734,
       "initial": 0,
       "n": 0,
       "ncols": null,
       "nrows": null,
       "postfix": null,
       "prefix": "transformating json to dataframe...",
       "rate": null,
       "total": null,
       "unit": "it",
       "unit_divisor": 1000,
       "unit_scale": false
      },
      "application/vnd.jupyter.widget-view+json": {
       "model_id": "1da9c5f046934392a9328baa4e562341",
       "version_major": 2,
       "version_minor": 0
      },
      "text/plain": [
       "transformating json to dataframe...: 0it [00:00, ?it/s]"
      ]
     },
     "metadata": {},
     "output_type": "display_data"
    },
    {
     "data": {
      "application/json": {
       "ascii": false,
       "bar_format": null,
       "colour": null,
       "elapsed": 0.017039775848388672,
       "initial": 0,
       "n": 0,
       "ncols": null,
       "nrows": null,
       "postfix": null,
       "prefix": "transformating json to dataframe...",
       "rate": null,
       "total": null,
       "unit": "it",
       "unit_divisor": 1000,
       "unit_scale": false
      },
      "application/vnd.jupyter.widget-view+json": {
       "model_id": "f615247476ca40fdb128d845c5e72e81",
       "version_major": 2,
       "version_minor": 0
      },
      "text/plain": [
       "transformating json to dataframe...: 0it [00:00, ?it/s]"
      ]
     },
     "metadata": {},
     "output_type": "display_data"
    },
    {
     "data": {
      "application/json": {
       "ascii": false,
       "bar_format": null,
       "colour": null,
       "elapsed": 0.06926846504211426,
       "initial": 0,
       "n": 0,
       "ncols": null,
       "nrows": null,
       "postfix": null,
       "prefix": "transformating json to dataframe...",
       "rate": null,
       "total": null,
       "unit": "it",
       "unit_divisor": 1000,
       "unit_scale": false
      },
      "application/vnd.jupyter.widget-view+json": {
       "model_id": "27d8877b66804c8ca866c24accaf9d9c",
       "version_major": 2,
       "version_minor": 0
      },
      "text/plain": [
       "transformating json to dataframe...: 0it [00:00, ?it/s]"
      ]
     },
     "metadata": {},
     "output_type": "display_data"
    }
   ],
   "source": [
    "photo_info = json2df(photo_paths)\n",
    "item_info = json2df(item_paths)\n",
    "\n",
    "user_info = json2df(user_paths)\n",
    "\n",
    "review_info = json2df(review_paths)"
   ]
  },
  {
   "cell_type": "markdown",
   "metadata": {},
   "source": [
    "### 전처리 기준\n",
    "\n",
    "- 사용자: 리뷰를 최소 10회 이상 작성한(review_count) 사용자를 대상으로 함.\n",
    "- 레스토랑\n",
    "    - 사진: Food에 해당하는 사진만 사용함."
   ]
  },
  {
   "cell_type": "code",
   "execution_count": 50,
   "metadata": {},
   "outputs": [],
   "source": [
    "item_df = pd.merge(item_info, photo_info, how='inner').loc[:, ['business_id', 'stars', 'photo_id', 'label']]\n",
    "item_df = item_df[item_df.loc[:, 'label'] == 'food']\n",
    "item_df = item_df.drop_duplicates('business_id')"
   ]
  },
  {
   "cell_type": "code",
   "execution_count": 109,
   "metadata": {},
   "outputs": [],
   "source": [
    "review_df = review_info[review_info.loc[:, 'user_id'].isin(user_info.user_id)].loc[:, ['user_id', 'business_id', 'text', 'stars']].copy()\n",
    "review_df = pd.merge(review_df, item_df.loc[:, ['business_id', 'photo_id']], how='inner')\n",
    "\n",
    "target_user = review_df.user_id.value_counts()[review_df.user_id.value_counts() >= 10].index\n",
    "\n",
    "review_df = review_df[review_df.user_id.isin(target_user)].reset_index(drop=True)"
   ]
  },
  {
   "cell_type": "code",
   "execution_count": 117,
   "metadata": {},
   "outputs": [],
   "source": [
    "d_train, d_test = train_test_split(review_df, train_size=0.6, random_state=42)\n",
    "d_valid, d_test = train_test_split(d_test, train_size=0.5, random_state=42)"
   ]
  },
  {
   "cell_type": "code",
   "execution_count": 119,
   "metadata": {},
   "outputs": [],
   "source": [
    "d_train = d_train.astype({'user_id':'category', 'business_id':'category'})\n",
    "d_valid = d_valid.astype({'user_id':'category', 'business_id':'category'})\n",
    "d_test = d_test.astype({'user_id':'category', 'business_id':'category'})"
   ]
  },
  {
   "cell_type": "code",
   "execution_count": 120,
   "metadata": {},
   "outputs": [],
   "source": [
    "u_cat = d_train.user_id.cat.categories\n",
    "b_cat = d_train.business_id.cat.categories"
   ]
  },
  {
   "cell_type": "code",
   "execution_count": 121,
   "metadata": {},
   "outputs": [],
   "source": [
    "d_valid.user_id = d_valid.user_id.cat.set_categories(u_cat)\n",
    "d_valid.business_id = d_valid.business_id.cat.set_categories(b_cat)\n",
    "\n",
    "d_test.user_id = d_test.user_id.cat.set_categories(u_cat)\n",
    "d_test.business_id = d_test.business_id.cat.set_categories(b_cat)"
   ]
  },
  {
   "cell_type": "code",
   "execution_count": 122,
   "metadata": {},
   "outputs": [],
   "source": [
    "d_train.user_id = d_train.user_id.cat.codes\n",
    "d_train.business_id = d_train.business_id.cat.codes \n",
    "\n",
    "d_valid.user_id = d_valid.user_id.cat.codes\n",
    "d_valid.business_id = d_valid.business_id.cat.codes \n",
    "\n",
    "d_test.user_id = d_test.user_id.cat.codes\n",
    "d_test.business_id = d_test.business_id.cat.codes "
   ]
  },
  {
   "cell_type": "code",
   "execution_count": 123,
   "metadata": {},
   "outputs": [],
   "source": [
    "d_train = d_train.dropna()\n",
    "d_valid = d_valid.dropna()\n",
    "d_test = d_test.dropna()\n",
    "\n",
    "d_train.reset_index(drop=True, inplace=True)\n",
    "d_valid.reset_index(drop=True, inplace=True)\n",
    "d_test.reset_index(drop=True, inplace=True)"
   ]
  },
  {
   "cell_type": "code",
   "execution_count": 124,
   "metadata": {},
   "outputs": [],
   "source": [
    "d_train = d_train.astype({'user_id': int, 'business_id': int})\n",
    "d_valid = d_valid.astype({'user_id': int, 'business_id': int})\n",
    "d_test = d_test.astype({'user_id': int, 'business_id': int})"
   ]
  },
  {
   "cell_type": "code",
   "execution_count": 127,
   "metadata": {},
   "outputs": [
    {
     "name": "stdout",
     "output_type": "stream",
     "text": [
      "Success pickle file, which name is data/data_info.pkl\n",
      "Success pickle file, which name is data/train.pkl\n",
      "Success pickle file, which name is data/valid.pkl\n",
      "Success pickle file, which name is data/test.pkl\n"
     ]
    }
   ],
   "source": [
    "save_pkl(review_df, fname='data/data_info.pkl')\n",
    "\n",
    "save_pkl(d_train, fname='data/train.pkl')\n",
    "save_pkl(d_valid, fname='data/valid.pkl')\n",
    "save_pkl(d_test, fname='data/test.pkl')"
   ]
  }
 ],
 "metadata": {
  "kernelspec": {
   "display_name": "base",
   "language": "python",
   "name": "python3"
  },
  "language_info": {
   "codemirror_mode": {
    "name": "ipython",
    "version": 3
   },
   "file_extension": ".py",
   "mimetype": "text/x-python",
   "name": "python",
   "nbconvert_exporter": "python",
   "pygments_lexer": "ipython3",
   "version": "3.8.12"
  },
  "orig_nbformat": 4
 },
 "nbformat": 4,
 "nbformat_minor": 2
}
